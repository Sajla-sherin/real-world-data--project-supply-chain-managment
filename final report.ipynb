{
 "cells": [
  {
   "cell_type": "raw",
   "id": "2507d486-df2b-47db-90f3-c15bfc4bab30",
   "metadata": {},
   "source": [
    "# Performance on the Training Set:\n"
   ]
  },
  {
   "cell_type": "raw",
   "id": "4ce83938-e6a9-42a9-a246-6995b5cf0448",
   "metadata": {},
   "source": [
    "Root Mean Squared Error (RMSE): The RMSE on the training data is approximately 362.4032. This value is remarkably low, indicating that the model fits the training data exceptionally well. It means that the model's predictions are very close to the actual values in the training set, which is a sign of excellent training performance.\n",
    "\n",
    "Mean Absolute Error (MAE): The MAE on the training data is approximately 268.9131. This value is also quite low, indicating that, on average, the model's predictions deviate by a relatively small amount from the actual values in the training set. This suggests a high level of accuracy in the training phase.\n",
    "\n",
    "R-squared (R2) Score: The R2 score on the training data is approximately 0.9990. This score is very close to 1, which is the highest possible value. It signifies that the model explains nearly all the variance in the training data, showcasing an outstanding fit to the training set."
   ]
  },
  {
   "cell_type": "markdown",
   "id": "aa51534c-f421-48a9-9dfe-3f774fb17ee1",
   "metadata": {},
   "source": [
    "# Performance on the Test Set:\n"
   ]
  },
  {
   "cell_type": "raw",
   "id": "57275994-8d16-4826-8640-51ef2f0ade56",
   "metadata": {},
   "source": [
    "Performance on the Test Set:\n",
    "\n",
    "RMSE: Approximately 979.2246 for the first set and 959.1980 for the second set. These values are slightly higher than the training RMSE but still reasonably low, indicating good predictive performance.\n",
    "\n",
    "MAE: Approximately 721.0607 for the first set and 724.6243 for the second set. These values are also slightly higher than the training MAE but still indicate decent model performance.\n",
    "\n",
    "R2 Score: Approximately 0.9930 for the first set and 0.9932 for the second set. These scores suggest that the model generalizes well to unseen data."
   ]
  },
  {
   "cell_type": "raw",
   "id": "d199a53e-640f-476f-8209-229a830034dc",
   "metadata": {},
   "source": [
    "Overall"
   ]
  },
  {
   "cell_type": "raw",
   "id": "7a6664f5-987b-4bb4-85fd-afb1ddcdea5e",
   "metadata": {},
   "source": [
    ", Random Forest Regressor model seems to perform well on both the training and test datasets. The model has learned from the training data and is capable of making reasonably accurate predictions on new, unseen data (the test set). These results indicate that your model is a good candidate for making predictions on new data in a real-world scenario."
   ]
  },
  {
   "cell_type": "code",
   "execution_count": null,
   "id": "10cd89aa-4e10-4376-a9ba-021b60f53692",
   "metadata": {},
   "outputs": [],
   "source": []
  }
 ],
 "metadata": {
  "kernelspec": {
   "display_name": "Python 3 (ipykernel)",
   "language": "python",
   "name": "python3"
  },
  "language_info": {
   "codemirror_mode": {
    "name": "ipython",
    "version": 3
   },
   "file_extension": ".py",
   "mimetype": "text/x-python",
   "name": "python",
   "nbconvert_exporter": "python",
   "pygments_lexer": "ipython3",
   "version": "3.11.4"
  }
 },
 "nbformat": 4,
 "nbformat_minor": 5
}
